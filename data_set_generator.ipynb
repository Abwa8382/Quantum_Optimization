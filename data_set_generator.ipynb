{
 "cells": [
  {
   "cell_type": "code",
   "execution_count": 1,
   "metadata": {},
   "outputs": [
    {
     "ename": "ModuleNotFoundError",
     "evalue": "No module named 'dimod'",
     "output_type": "error",
     "traceback": [
      "\u001b[1;31m---------------------------------------------------------------------------\u001b[0m",
      "\u001b[1;31mModuleNotFoundError\u001b[0m                       Traceback (most recent call last)",
      "\u001b[1;32m<ipython-input-1-bb00b6403fc9>\u001b[0m in \u001b[0;36m<module>\u001b[1;34m\u001b[0m\n\u001b[0;32m      1\u001b[0m \u001b[1;32mimport\u001b[0m \u001b[0mnumpy\u001b[0m \u001b[1;32mas\u001b[0m \u001b[0mnp\u001b[0m\u001b[1;33m\u001b[0m\u001b[1;33m\u001b[0m\u001b[0m\n\u001b[0;32m      2\u001b[0m \u001b[1;32mimport\u001b[0m \u001b[0mpandas\u001b[0m \u001b[1;32mas\u001b[0m \u001b[0mpd\u001b[0m\u001b[1;33m\u001b[0m\u001b[1;33m\u001b[0m\u001b[0m\n\u001b[1;32m----> 3\u001b[1;33m \u001b[1;32mimport\u001b[0m \u001b[0mdimod\u001b[0m\u001b[1;33m\u001b[0m\u001b[1;33m\u001b[0m\u001b[0m\n\u001b[0m\u001b[0;32m      4\u001b[0m \u001b[1;32mfrom\u001b[0m \u001b[0mdwave_qbsolv\u001b[0m \u001b[1;32mimport\u001b[0m \u001b[0mQBSolv\u001b[0m\u001b[1;33m\u001b[0m\u001b[1;33m\u001b[0m\u001b[0m\n\u001b[0;32m      5\u001b[0m \u001b[1;33m\u001b[0m\u001b[0m\n",
      "\u001b[1;31mModuleNotFoundError\u001b[0m: No module named 'dimod'"
     ]
    }
   ],
   "source": [
    "import numpy as np\n",
    "import pandas as pd\n",
    "import dimod\n",
    "from dwave_qbsolv import QBSolv\n",
    "\n",
    "# Set random seed for reproducibility\n",
    "np.random.seed(42)\n",
    "\n",
    "# Parameters for dataset\n",
    "total_warehouses = 10\n",
    "total_suppliers = 5\n",
    "total_customers = 15\n",
    "\n",
    "# Generate synthetic warehouses\n",
    "df_warehouses = pd.DataFrame({\n",
    "    'Warehouse_ID': range(1, total_warehouses + 1),\n",
    "    'Capacity': np.random.randint(500, 2000, total_warehouses),\n",
    "    'Fixed_Cost': np.random.randint(2000, 10000, total_warehouses)\n",
    "})\n",
    "\n",
    "# Generate synthetic suppliers\n",
    "df_suppliers = pd.DataFrame({\n",
    "    'Supplier_ID': range(1, total_suppliers + 1),\n",
    "    'Supply_Capacity': np.random.randint(1000, 5000, total_suppliers),\n",
    "    'Cost_Per_Unit': np.random.randint(5, 20, total_suppliers)\n",
    "})\n",
    "\n",
    "# Generate synthetic customer demand\n",
    "df_customers = pd.DataFrame({\n",
    "    'Customer_ID': range(1, total_customers + 1),\n",
    "    'Demand': np.random.randint(100, 500, total_customers)\n",
    "})\n",
    "\n",
    "# Generate synthetic transportation costs (Warehouse → Customer)\n",
    "transport_cost = np.random.randint(10, 50, (total_warehouses, total_customers))\n",
    "\n",
    "# Binary Decision Variables for QUBO\n",
    "qubo = {}\n",
    "penalty = 1000  # Large penalty to enforce constraints\n",
    "\n",
    "# Variable mapping: x_ij represents sending supply from Warehouse i to Customer j\n",
    "for i in range(total_warehouses):\n",
    "    for j in range(total_customers):\n",
    "        qubo[(f'x_{i}_{j}', f'x_{i}_{j}')] = transport_cost[i, j]  # Minimize cost\n",
    "\n",
    "# Demand constraint: Ensure customer demand is met\n",
    "for j in range(total_customers):\n",
    "    constraint = sum([f'x_{i}_{j}' for i in range(total_warehouses)])\n",
    "    qubo[(constraint, constraint)] = penalty  # Penalize deviation from demand\n",
    "\n",
    "# Warehouse capacity constraint: Ensure warehouses do not exceed capacity\n",
    "for i in range(total_warehouses):\n",
    "    constraint = sum([f'x_{i}_{j}' for j in range(total_customers)])\n",
    "    qubo[(constraint, constraint)] = penalty  # Penalize exceeding capacity\n",
    "\n",
    "# Convert to BQM (Binary Quadratic Model)\n",
    "bqm = dimod.BinaryQuadraticModel.from_qubo(qubo)\n",
    "\n",
    "# Solve using QBSolv (simulated annealing approach)\n",
    "solution = QBSolv().sample(bqm)\n",
    "\n",
    "# Extract results\n",
    "qubo_solution = solution.first.sample\n",
    "\n",
    "# Print optimal warehouse-customer assignments\n",
    "print(\"Optimal Supply Assignments:\")\n",
    "for key, value in qubo_solution.items():\n",
    "    if value == 1:\n",
    "        print(key, \"-> Assigned\")\n"
   ]
  }
 ],
 "metadata": {
  "kernelspec": {
   "display_name": "ML",
   "language": "python",
   "name": "ml"
  },
  "language_info": {
   "codemirror_mode": {
    "name": "ipython",
    "version": 3
   },
   "file_extension": ".py",
   "mimetype": "text/x-python",
   "name": "python",
   "nbconvert_exporter": "python",
   "pygments_lexer": "ipython3",
   "version": "3.8.5"
  }
 },
 "nbformat": 4,
 "nbformat_minor": 2
}
